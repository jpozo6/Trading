{
 "cells": [
  {
   "cell_type": "markdown",
   "metadata": {},
   "source": [
    "# Imports"
   ]
  },
  {
   "cell_type": "code",
   "execution_count": 1,
   "metadata": {},
   "outputs": [],
   "source": [
    "import pandas as pd\n",
    "import numpy as np\n",
    "import yfinance as yf\n",
    "import ta\n",
    "import os\n",
    "import matplotlib.pyplot as plt\n",
    "import requests\n",
    "from io import StringIO\n",
    "from datetime import datetime"
   ]
  },
  {
   "cell_type": "markdown",
   "metadata": {},
   "source": [
    "# Funciones"
   ]
  },
  {
   "cell_type": "code",
   "execution_count": 2,
   "metadata": {},
   "outputs": [],
   "source": [
    "def get_nasdaq_tickers():\n",
    "    url = 'http://www.nasdaqtrader.com/dynamic/SymDir/nasdaqlisted.txt'\n",
    "    response = requests.get(url)\n",
    "    data = response.content.decode('utf-8')\n",
    "    df = pd.read_csv(StringIO(data), sep='|')\n",
    "    # Eliminar la última fila que contiene 'File Creation Time'\n",
    "    df = df[:-1]\n",
    "    # Asegurarse de que la columna 'Symbol' es de tipo cadena y eliminar valores nulos\n",
    "    df['Symbol'] = df['Symbol'].astype(str)\n",
    "    df = df[df['Symbol'].notnull()]\n",
    "    tickers = df['Symbol'].tolist()\n",
    "    # Filtrar los símbolos correctamente\n",
    "    tickers = [\n",
    "        ticker for ticker in tickers\n",
    "        if isinstance(ticker, str) and 'test' not in ticker.lower() and ticker.isalpha()\n",
    "    ]\n",
    "    return tickers\n"
   ]
  },
  {
   "cell_type": "code",
   "execution_count": 3,
   "metadata": {},
   "outputs": [],
   "source": [
    "def download_data(ticker, period='5y', interval='1d'):\n",
    "    df = yf.download(ticker, period=period, interval=interval, auto_adjust=False, progress=False)\n",
    "    if df.empty:\n",
    "        print(f\"No hay datos para el ticker {ticker}\")\n",
    "        return None\n",
    "    df.dropna(inplace=True)\n",
    "    return df\n",
    "\n",
    "def calculate_indicators(df, indicators, time_frame):\n",
    "    df = df.copy()\n",
    "    if time_frame == 'monthly':\n",
    "        df = df.resample('M').agg({\n",
    "            'Open': 'first',\n",
    "            'High': 'max',\n",
    "            'Low': 'min',\n",
    "            'Close': 'last',\n",
    "            'Adj Close': 'last',\n",
    "            'Volume': 'sum'\n",
    "        })\n",
    "    elif time_frame == 'weekly':\n",
    "        df = df.resample('W').agg({\n",
    "            'Open': 'first',\n",
    "            'High': 'max',\n",
    "            'Low': 'min',\n",
    "            'Close': 'last',\n",
    "            'Adj Close': 'last',\n",
    "            'Volume': 'sum'\n",
    "        })\n",
    "    df.dropna(inplace=True)\n",
    "    # Calcular los indicadores seleccionados\n",
    "    if 'coppock' in indicators:\n",
    "        df['coppock'] = calculate_coppock_curve(df['Close'], wma_period=10, roc1_period=12, roc2_period=6)\n",
    "    if 'macd' in indicators:\n",
    "        macd = ta.trend.MACD(close=df['Close'], window_slow=23, window_fast=12, window_sign=9)\n",
    "        df['macd'] = macd.macd()\n",
    "        df['macd_signal'] = macd.macd_signal()\n",
    "    if 'sma5' in indicators:\n",
    "        df['sma5'] = ta.trend.SMAIndicator(close=df['Close'], window=5).sma_indicator()\n",
    "    if 'sma20' in indicators:\n",
    "        df['sma20'] = ta.trend.SMAIndicator(close=df['Close'], window=20).sma_indicator()\n",
    "    if 'sma30' in indicators:\n",
    "        df['sma30'] = ta.trend.SMAIndicator(close=df['Close'], window=30).sma_indicator()\n",
    "    if 'sma50' in indicators:\n",
    "        df['sma50'] = ta.trend.SMAIndicator(close=df['Close'], window=50).sma_indicator()\n",
    "    if 'sma200' in indicators:\n",
    "        df['sma200'] = ta.trend.SMAIndicator(close=df['Close'], window=200).sma_indicator()\n",
    "    return df\n",
    "\n",
    "def calculate_coppock_curve(series, wma_period=10, roc1_period=12, roc2_period=6):\n",
    "    roc1 = series.pct_change(periods=roc1_period) * 100\n",
    "    roc2 = series.pct_change(periods=roc2_period) * 100\n",
    "    coppock = (roc1 + roc2).rolling(window=wma_period).mean()\n",
    "    return coppock\n",
    "\n",
    "def calculate_rsc_mansfield(df, benchmark_df):\n",
    "    \"\"\"\n",
    "    Calcula la fuerza RSC Mansfield entre el activo y el índice de referencia.\n",
    "    \"\"\"\n",
    "    ratio = df['Close'] / benchmark_df['Close']\n",
    "    sma_ratio = ratio.rolling(window=52).mean()\n",
    "    mansfield = (ratio / sma_ratio - 1) * 100\n",
    "    return mansfield"
   ]
  },
  {
   "cell_type": "code",
   "execution_count": 7,
   "metadata": {},
   "outputs": [],
   "source": [
    "def analyze_tickers(tickers):\n",
    "    # Descargar datos del índice de referencia (por ejemplo, el Nasdaq Composite)\n",
    "    benchmark_ticker = '^IXIC'  # Índice Nasdaq Composite\n",
    "    benchmark_df = download_data(benchmark_ticker, period='5y', interval='1d')\n",
    "    if benchmark_df is None:\n",
    "        print(\"No se pudo descargar los datos del índice de referencia.\")\n",
    "        return\n",
    "\n",
    "    results = []\n",
    "\n",
    "    total_tickers = len(tickers)\n",
    "    processed_tickers = 0\n",
    "\n",
    "    for ticker in tickers:\n",
    "        processed_tickers += 1\n",
    "        print(f\"Procesando ticker ({processed_tickers}/{total_tickers}): {ticker}\")\n",
    "        try:\n",
    "            # Descargar datos diarios\n",
    "            df_daily = download_data(ticker, period='1y', interval='1d')\n",
    "            if df_daily is None or len(df_daily) < 200:\n",
    "                continue  # Necesitamos al menos 200 días de datos para las SMA\n",
    "\n",
    "            # Descargar datos semanales\n",
    "            df_weekly = download_data(ticker, period='5y', interval='1d')\n",
    "            if df_weekly is None or len(df_weekly) < 100:\n",
    "                continue  # Necesitamos suficientes datos para calcular indicadores semanales\n",
    "            df_weekly = calculate_indicators(df_weekly, indicators=['macd', 'sma5', 'sma20', 'sma30'], time_frame='weekly')\n",
    "            if df_weekly.empty:\n",
    "                continue\n",
    "\n",
    "            # Descargar datos mensuales\n",
    "            df_monthly = download_data(ticker, period='10y', interval='1d')\n",
    "            if df_monthly is None or len(df_monthly) < 120:\n",
    "                continue  # Necesitamos suficientes datos para calcular la Curva de Coppock\n",
    "            df_monthly = calculate_indicators(df_monthly, indicators=['coppock'], time_frame='monthly')\n",
    "            if df_monthly.empty:\n",
    "                continue\n",
    "\n",
    "            # Calcular SMA50 y SMA200 en datos diarios\n",
    "            df_daily = calculate_indicators(df_daily, indicators=['sma50', 'sma200'], time_frame='daily')\n",
    "\n",
    "            # Verificar que las SMA han sido calculadas\n",
    "            if df_daily['sma50'].isnull().all() or df_daily['sma200'].isnull().all():\n",
    "                continue\n",
    "\n",
    "            # Señales de Compra y Venta\n",
    "\n",
    "            ## Señales de Coppock\n",
    "            # Señal de Compra\n",
    "            coppock_current = df_monthly['coppock'].iloc[-1]\n",
    "            coppock_prev = df_monthly['coppock'].iloc[-2]\n",
    "            coppock_slope_positive = (coppock_current - coppock_prev) > 0\n",
    "            coppock_below_zero = coppock_current < 0\n",
    "            signal_coppock_buy = coppock_slope_positive and coppock_below_zero\n",
    "\n",
    "            # Señal de Venta\n",
    "            coppock_slope_negative = (coppock_current - coppock_prev) < 0\n",
    "            signal_coppock_sell = coppock_slope_negative and coppock_current < 0\n",
    "\n",
    "            ## Señales de MACD\n",
    "            # Señal de Compra\n",
    "            macd_signal_current = df_weekly['macd_signal'].iloc[-1]\n",
    "            macd_signal_prev = df_weekly['macd_signal'].iloc[-2]\n",
    "            macd_crosses_zero_up = (macd_signal_prev < 0) and (macd_signal_current > 0)\n",
    "            macd_signal_positive = macd_signal_current > 0\n",
    "            signal_macd_buy = macd_crosses_zero_up or macd_signal_positive\n",
    "\n",
    "            # Señal de Venta\n",
    "            macd_crosses_zero_down = (macd_signal_prev > 0) and (macd_signal_current < 0)\n",
    "            macd_signal_negative = macd_signal_current < 0\n",
    "            signal_macd_sell = macd_crosses_zero_down or macd_signal_negative\n",
    "\n",
    "            ## Señales de Cruce de Medias\n",
    "            # Señal de Compra\n",
    "            sma50_current = df_daily['sma50'].iloc[-1]\n",
    "            sma200_current = df_daily['sma200'].iloc[-1]\n",
    "            golden_cross = sma50_current > sma200_current\n",
    "            min_price = df_daily['Low'].iloc[-1]\n",
    "            sma200_distance = abs(sma200_current - min_price) / min_price\n",
    "            sma200_close_to_min = sma200_distance < 0.01  # Menor al 1%\n",
    "            signal_sma_buy = golden_cross and sma200_close_to_min\n",
    "\n",
    "            # Señal de Venta\n",
    "            death_cross = sma50_current < sma200_current\n",
    "            signal_sma_sell = death_cross\n",
    "\n",
    "            ## Señales de Alfayate_Weinstein\n",
    "            # Señal de Compra\n",
    "            # Condición 1: Distancia del precio de cierre al máximo de 52 semanas <= 2%\n",
    "            max_52weeks = df_daily['High'].rolling(window=252).max().iloc[-1]\n",
    "            close_price = df_daily['Close'].iloc[-1]\n",
    "            distance_to_max = abs(max_52weeks - close_price) / max_52weeks\n",
    "            condition1_buy = distance_to_max <= 0.02\n",
    "\n",
    "            # Condición 2: RSC Mansfield de 52 semanas > 0.10\n",
    "            # Calcular RSC Mansfield para el activo\n",
    "            rsc_mansfield = calculate_rsc_mansfield(df_weekly, benchmark_df)\n",
    "            rsc_current = rsc_mansfield.iloc[-1]\n",
    "            condition2_buy = rsc_current > 0.10\n",
    "\n",
    "            # Condición 3: SMA5 del CPM52 >= 10\n",
    "            df_weekly['CPM'] = df_weekly['Volume'] * df_weekly['Close']\n",
    "            cpm52 = df_weekly['CPM'].rolling(window=52).mean()\n",
    "            sma5_cpm52 = cpm52.rolling(window=5).mean()\n",
    "            cpm52_current = sma5_cpm52.iloc[-1]\n",
    "            condition3_buy = cpm52_current >= 10  # Ajusta el umbral según sea necesario\n",
    "\n",
    "            # Condición 4: Riesgo stop <= 9%\n",
    "            sma30_current = df_weekly['sma30'].iloc[-1]\n",
    "            stop_risk = abs(close_price - sma30_current) / close_price\n",
    "            condition4_buy = stop_risk <= 0.09\n",
    "\n",
    "            # Señal de Compra Alfayate_Weinstein\n",
    "            signal_alfayate_buy = condition1_buy and condition3_buy and condition4_buy\n",
    "\n",
    "            # Señal de Venta\n",
    "            # Condición 1: RSC Mansfield de 52 semanas < -0.90\n",
    "            condition1_sell = rsc_current < -0.90\n",
    "\n",
    "            # Condición 2: SMA20 del CPM52 <= -15\n",
    "            sma20_cpm52 = cpm52.rolling(window=20).mean()\n",
    "            cpm52_current_sma20 = sma20_cpm52.iloc[-1]\n",
    "            condition2_sell = cpm52_current_sma20 <= -15  # Ajusta el umbral según sea necesario\n",
    "\n",
    "            # Condición 3: Riesgo stop >= 30%\n",
    "            condition3_sell = stop_risk >= 0.30\n",
    "\n",
    "            # Señal de Venta Alfayate_Weinstein\n",
    "            signal_alfayate_sell = condition2_sell and condition3_sell\n",
    "\n",
    "            # Añadir los resultados para este ticker\n",
    "            results.append({\n",
    "                'Ticker': ticker,\n",
    "                # Señales de Compra\n",
    "                'Signal_Coppock_Buy': signal_coppock_buy,\n",
    "                'Signal_MACD_Buy': signal_macd_buy,\n",
    "                'Signal_SMA_Buy': signal_sma_buy,\n",
    "                'Signal_Alfayate_Buy': signal_alfayate_buy,\n",
    "                # Señales de Venta\n",
    "                'Signal_Coppock_Sell': signal_coppock_sell,\n",
    "                'Signal_MACD_Sell': signal_macd_sell,\n",
    "                'Signal_SMA_Sell': signal_sma_sell,\n",
    "                'Signal_Alfayate_Sell': signal_alfayate_sell,\n",
    "                # Indicadores y valores calculados\n",
    "                'Coppock': coppock_current,\n",
    "                'MACD_Signal': macd_signal_current,\n",
    "                'SMA50': sma50_current,\n",
    "                'SMA200': sma200_current,\n",
    "                'SMA200_Dist_Min': sma200_distance,\n",
    "                'Distance_to_Max': distance_to_max,\n",
    "                'RSC_Mansfield': rsc_current,\n",
    "                'SMA5_CPM52': cpm52_current,\n",
    "                'SMA20_CPM52': cpm52_current_sma20,\n",
    "                'Stop_Risk': stop_risk\n",
    "            })\n",
    "\n",
    "        except Exception as e:\n",
    "            print(f\"Error al procesar {ticker}: {e}\")\n",
    "            continue\n",
    "\n",
    "    # Convertir la lista de resultados en DataFrame\n",
    "    results_df = pd.DataFrame(results)\n",
    "    if not results_df.empty:\n",
    "        results_df = results_df.set_index('Ticker')\n",
    "        print(\"\\nResultados del análisis:\")\n",
    "        display(results_df)\n",
    "    else:\n",
    "        print(\"\\nNo se pudieron obtener resultados del análisis.\")\n",
    "\n",
    "    # Guardar el DataFrame en un archivo CSV con el formato especificado\n",
    "    today = datetime.now().strftime('%Y%m%d')\n",
    "    output_filename = f'analysis_results_test/resultados_{today}.csv'\n",
    "    results_df.to_csv(output_filename)\n",
    "    print(f\"\\nResultados guardados en: {output_filename}\")\n",
    "\n",
    "    return results_df"
   ]
  },
  {
   "cell_type": "code",
   "execution_count": 11,
   "metadata": {},
   "outputs": [
    {
     "name": "stdout",
     "output_type": "stream",
     "text": [
      "Procesando ticker (1/101): AAPL\n"
     ]
    },
    {
     "name": "stderr",
     "output_type": "stream",
     "text": [
      "C:\\Users\\javip\\AppData\\Local\\Temp\\ipykernel_30480\\106972179.py:12: FutureWarning: 'M' is deprecated and will be removed in a future version, please use 'ME' instead.\n",
      "  df = df.resample('M').agg({\n"
     ]
    },
    {
     "name": "stdout",
     "output_type": "stream",
     "text": [
      "Procesando ticker (2/101): MSFT\n"
     ]
    },
    {
     "name": "stderr",
     "output_type": "stream",
     "text": [
      "C:\\Users\\javip\\AppData\\Local\\Temp\\ipykernel_30480\\106972179.py:12: FutureWarning: 'M' is deprecated and will be removed in a future version, please use 'ME' instead.\n",
      "  df = df.resample('M').agg({\n"
     ]
    },
    {
     "name": "stdout",
     "output_type": "stream",
     "text": [
      "Procesando ticker (3/101): NVDA\n"
     ]
    },
    {
     "name": "stderr",
     "output_type": "stream",
     "text": [
      "C:\\Users\\javip\\AppData\\Local\\Temp\\ipykernel_30480\\106972179.py:12: FutureWarning: 'M' is deprecated and will be removed in a future version, please use 'ME' instead.\n",
      "  df = df.resample('M').agg({\n"
     ]
    },
    {
     "name": "stdout",
     "output_type": "stream",
     "text": [
      "Procesando ticker (4/101): AMZN\n"
     ]
    },
    {
     "name": "stderr",
     "output_type": "stream",
     "text": [
      "C:\\Users\\javip\\AppData\\Local\\Temp\\ipykernel_30480\\106972179.py:12: FutureWarning: 'M' is deprecated and will be removed in a future version, please use 'ME' instead.\n",
      "  df = df.resample('M').agg({\n"
     ]
    },
    {
     "name": "stdout",
     "output_type": "stream",
     "text": [
      "Procesando ticker (5/101): GOOGL\n"
     ]
    },
    {
     "name": "stderr",
     "output_type": "stream",
     "text": [
      "C:\\Users\\javip\\AppData\\Local\\Temp\\ipykernel_30480\\106972179.py:12: FutureWarning: 'M' is deprecated and will be removed in a future version, please use 'ME' instead.\n",
      "  df = df.resample('M').agg({\n"
     ]
    },
    {
     "name": "stdout",
     "output_type": "stream",
     "text": [
      "Procesando ticker (6/101): GOOG\n"
     ]
    },
    {
     "name": "stderr",
     "output_type": "stream",
     "text": [
      "C:\\Users\\javip\\AppData\\Local\\Temp\\ipykernel_30480\\106972179.py:12: FutureWarning: 'M' is deprecated and will be removed in a future version, please use 'ME' instead.\n",
      "  df = df.resample('M').agg({\n"
     ]
    },
    {
     "name": "stdout",
     "output_type": "stream",
     "text": [
      "Procesando ticker (7/101): META\n"
     ]
    },
    {
     "name": "stderr",
     "output_type": "stream",
     "text": [
      "C:\\Users\\javip\\AppData\\Local\\Temp\\ipykernel_30480\\106972179.py:12: FutureWarning: 'M' is deprecated and will be removed in a future version, please use 'ME' instead.\n",
      "  df = df.resample('M').agg({\n"
     ]
    },
    {
     "name": "stdout",
     "output_type": "stream",
     "text": [
      "Procesando ticker (8/101): TSLA\n"
     ]
    },
    {
     "name": "stderr",
     "output_type": "stream",
     "text": [
      "C:\\Users\\javip\\AppData\\Local\\Temp\\ipykernel_30480\\106972179.py:12: FutureWarning: 'M' is deprecated and will be removed in a future version, please use 'ME' instead.\n",
      "  df = df.resample('M').agg({\n"
     ]
    },
    {
     "name": "stdout",
     "output_type": "stream",
     "text": [
      "Procesando ticker (9/101): AVGO\n"
     ]
    },
    {
     "name": "stderr",
     "output_type": "stream",
     "text": [
      "C:\\Users\\javip\\AppData\\Local\\Temp\\ipykernel_30480\\106972179.py:12: FutureWarning: 'M' is deprecated and will be removed in a future version, please use 'ME' instead.\n",
      "  df = df.resample('M').agg({\n"
     ]
    },
    {
     "name": "stdout",
     "output_type": "stream",
     "text": [
      "Procesando ticker (10/101): COST\n"
     ]
    },
    {
     "name": "stderr",
     "output_type": "stream",
     "text": [
      "C:\\Users\\javip\\AppData\\Local\\Temp\\ipykernel_30480\\106972179.py:12: FutureWarning: 'M' is deprecated and will be removed in a future version, please use 'ME' instead.\n",
      "  df = df.resample('M').agg({\n"
     ]
    },
    {
     "name": "stdout",
     "output_type": "stream",
     "text": [
      "Procesando ticker (11/101): NFLX\n"
     ]
    },
    {
     "name": "stderr",
     "output_type": "stream",
     "text": [
      "C:\\Users\\javip\\AppData\\Local\\Temp\\ipykernel_30480\\106972179.py:12: FutureWarning: 'M' is deprecated and will be removed in a future version, please use 'ME' instead.\n",
      "  df = df.resample('M').agg({\n"
     ]
    },
    {
     "name": "stdout",
     "output_type": "stream",
     "text": [
      "Procesando ticker (12/101): ASML\n"
     ]
    },
    {
     "name": "stderr",
     "output_type": "stream",
     "text": [
      "C:\\Users\\javip\\AppData\\Local\\Temp\\ipykernel_30480\\106972179.py:12: FutureWarning: 'M' is deprecated and will be removed in a future version, please use 'ME' instead.\n",
      "  df = df.resample('M').agg({\n"
     ]
    },
    {
     "name": "stdout",
     "output_type": "stream",
     "text": [
      "Procesando ticker (13/101): TMUS\n"
     ]
    },
    {
     "name": "stderr",
     "output_type": "stream",
     "text": [
      "C:\\Users\\javip\\AppData\\Local\\Temp\\ipykernel_30480\\106972179.py:12: FutureWarning: 'M' is deprecated and will be removed in a future version, please use 'ME' instead.\n",
      "  df = df.resample('M').agg({\n"
     ]
    },
    {
     "name": "stdout",
     "output_type": "stream",
     "text": [
      "Procesando ticker (14/101): CSCO\n"
     ]
    },
    {
     "name": "stderr",
     "output_type": "stream",
     "text": [
      "C:\\Users\\javip\\AppData\\Local\\Temp\\ipykernel_30480\\106972179.py:12: FutureWarning: 'M' is deprecated and will be removed in a future version, please use 'ME' instead.\n",
      "  df = df.resample('M').agg({\n"
     ]
    },
    {
     "name": "stdout",
     "output_type": "stream",
     "text": [
      "Procesando ticker (15/101): PEP\n"
     ]
    },
    {
     "name": "stderr",
     "output_type": "stream",
     "text": [
      "C:\\Users\\javip\\AppData\\Local\\Temp\\ipykernel_30480\\106972179.py:12: FutureWarning: 'M' is deprecated and will be removed in a future version, please use 'ME' instead.\n",
      "  df = df.resample('M').agg({\n"
     ]
    },
    {
     "name": "stdout",
     "output_type": "stream",
     "text": [
      "Procesando ticker (16/101): AMD\n"
     ]
    },
    {
     "name": "stderr",
     "output_type": "stream",
     "text": [
      "C:\\Users\\javip\\AppData\\Local\\Temp\\ipykernel_30480\\106972179.py:12: FutureWarning: 'M' is deprecated and will be removed in a future version, please use 'ME' instead.\n",
      "  df = df.resample('M').agg({\n"
     ]
    },
    {
     "name": "stdout",
     "output_type": "stream",
     "text": [
      "Procesando ticker (17/101): LIN\n"
     ]
    },
    {
     "name": "stderr",
     "output_type": "stream",
     "text": [
      "C:\\Users\\javip\\AppData\\Local\\Temp\\ipykernel_30480\\106972179.py:12: FutureWarning: 'M' is deprecated and will be removed in a future version, please use 'ME' instead.\n",
      "  df = df.resample('M').agg({\n"
     ]
    },
    {
     "name": "stdout",
     "output_type": "stream",
     "text": [
      "Procesando ticker (18/101): ADBE\n"
     ]
    },
    {
     "name": "stderr",
     "output_type": "stream",
     "text": [
      "C:\\Users\\javip\\AppData\\Local\\Temp\\ipykernel_30480\\106972179.py:12: FutureWarning: 'M' is deprecated and will be removed in a future version, please use 'ME' instead.\n",
      "  df = df.resample('M').agg({\n"
     ]
    },
    {
     "name": "stdout",
     "output_type": "stream",
     "text": [
      "Procesando ticker (19/101): ISRG\n"
     ]
    },
    {
     "name": "stderr",
     "output_type": "stream",
     "text": [
      "C:\\Users\\javip\\AppData\\Local\\Temp\\ipykernel_30480\\106972179.py:12: FutureWarning: 'M' is deprecated and will be removed in a future version, please use 'ME' instead.\n",
      "  df = df.resample('M').agg({\n"
     ]
    },
    {
     "name": "stdout",
     "output_type": "stream",
     "text": [
      "Procesando ticker (20/101): INTU\n"
     ]
    },
    {
     "name": "stderr",
     "output_type": "stream",
     "text": [
      "C:\\Users\\javip\\AppData\\Local\\Temp\\ipykernel_30480\\106972179.py:12: FutureWarning: 'M' is deprecated and will be removed in a future version, please use 'ME' instead.\n",
      "  df = df.resample('M').agg({\n"
     ]
    },
    {
     "name": "stdout",
     "output_type": "stream",
     "text": [
      "Procesando ticker (21/101): QCOM\n"
     ]
    },
    {
     "name": "stderr",
     "output_type": "stream",
     "text": [
      "C:\\Users\\javip\\AppData\\Local\\Temp\\ipykernel_30480\\106972179.py:12: FutureWarning: 'M' is deprecated and will be removed in a future version, please use 'ME' instead.\n",
      "  df = df.resample('M').agg({\n"
     ]
    },
    {
     "name": "stdout",
     "output_type": "stream",
     "text": [
      "Procesando ticker (22/101): TXN\n"
     ]
    },
    {
     "name": "stderr",
     "output_type": "stream",
     "text": [
      "C:\\Users\\javip\\AppData\\Local\\Temp\\ipykernel_30480\\106972179.py:12: FutureWarning: 'M' is deprecated and will be removed in a future version, please use 'ME' instead.\n",
      "  df = df.resample('M').agg({\n"
     ]
    },
    {
     "name": "stdout",
     "output_type": "stream",
     "text": [
      "Procesando ticker (23/101): HON\n"
     ]
    },
    {
     "name": "stderr",
     "output_type": "stream",
     "text": [
      "C:\\Users\\javip\\AppData\\Local\\Temp\\ipykernel_30480\\106972179.py:12: FutureWarning: 'M' is deprecated and will be removed in a future version, please use 'ME' instead.\n",
      "  df = df.resample('M').agg({\n"
     ]
    },
    {
     "name": "stdout",
     "output_type": "stream",
     "text": [
      "Procesando ticker (24/101): AMGN\n"
     ]
    },
    {
     "name": "stderr",
     "output_type": "stream",
     "text": [
      "C:\\Users\\javip\\AppData\\Local\\Temp\\ipykernel_30480\\106972179.py:12: FutureWarning: 'M' is deprecated and will be removed in a future version, please use 'ME' instead.\n",
      "  df = df.resample('M').agg({\n"
     ]
    },
    {
     "name": "stdout",
     "output_type": "stream",
     "text": [
      "Procesando ticker (25/101): SBUX\n"
     ]
    },
    {
     "name": "stderr",
     "output_type": "stream",
     "text": [
      "C:\\Users\\javip\\AppData\\Local\\Temp\\ipykernel_30480\\106972179.py:12: FutureWarning: 'M' is deprecated and will be removed in a future version, please use 'ME' instead.\n",
      "  df = df.resample('M').agg({\n"
     ]
    },
    {
     "name": "stdout",
     "output_type": "stream",
     "text": [
      "Procesando ticker (26/101): INTC\n"
     ]
    },
    {
     "name": "stderr",
     "output_type": "stream",
     "text": [
      "C:\\Users\\javip\\AppData\\Local\\Temp\\ipykernel_30480\\106972179.py:12: FutureWarning: 'M' is deprecated and will be removed in a future version, please use 'ME' instead.\n",
      "  df = df.resample('M').agg({\n"
     ]
    },
    {
     "name": "stdout",
     "output_type": "stream",
     "text": [
      "Procesando ticker (27/101): MDLZ\n"
     ]
    },
    {
     "name": "stderr",
     "output_type": "stream",
     "text": [
      "C:\\Users\\javip\\AppData\\Local\\Temp\\ipykernel_30480\\106972179.py:12: FutureWarning: 'M' is deprecated and will be removed in a future version, please use 'ME' instead.\n",
      "  df = df.resample('M').agg({\n"
     ]
    },
    {
     "name": "stdout",
     "output_type": "stream",
     "text": [
      "Procesando ticker (28/101): AMAT\n"
     ]
    },
    {
     "name": "stderr",
     "output_type": "stream",
     "text": [
      "C:\\Users\\javip\\AppData\\Local\\Temp\\ipykernel_30480\\106972179.py:12: FutureWarning: 'M' is deprecated and will be removed in a future version, please use 'ME' instead.\n",
      "  df = df.resample('M').agg({\n"
     ]
    },
    {
     "name": "stdout",
     "output_type": "stream",
     "text": [
      "Procesando ticker (29/101): PYPL\n"
     ]
    },
    {
     "name": "stderr",
     "output_type": "stream",
     "text": [
      "C:\\Users\\javip\\AppData\\Local\\Temp\\ipykernel_30480\\106972179.py:12: FutureWarning: 'M' is deprecated and will be removed in a future version, please use 'ME' instead.\n",
      "  df = df.resample('M').agg({\n"
     ]
    },
    {
     "name": "stdout",
     "output_type": "stream",
     "text": [
      "Procesando ticker (30/101): ADI\n"
     ]
    },
    {
     "name": "stderr",
     "output_type": "stream",
     "text": [
      "C:\\Users\\javip\\AppData\\Local\\Temp\\ipykernel_30480\\106972179.py:12: FutureWarning: 'M' is deprecated and will be removed in a future version, please use 'ME' instead.\n",
      "  df = df.resample('M').agg({\n"
     ]
    },
    {
     "name": "stdout",
     "output_type": "stream",
     "text": [
      "Procesando ticker (31/101): LRCX\n"
     ]
    },
    {
     "name": "stderr",
     "output_type": "stream",
     "text": [
      "C:\\Users\\javip\\AppData\\Local\\Temp\\ipykernel_30480\\106972179.py:12: FutureWarning: 'M' is deprecated and will be removed in a future version, please use 'ME' instead.\n",
      "  df = df.resample('M').agg({\n"
     ]
    },
    {
     "name": "stdout",
     "output_type": "stream",
     "text": [
      "Procesando ticker (32/101): BKNG\n"
     ]
    },
    {
     "name": "stderr",
     "output_type": "stream",
     "text": [
      "C:\\Users\\javip\\AppData\\Local\\Temp\\ipykernel_30480\\106972179.py:12: FutureWarning: 'M' is deprecated and will be removed in a future version, please use 'ME' instead.\n",
      "  df = df.resample('M').agg({\n"
     ]
    },
    {
     "name": "stdout",
     "output_type": "stream",
     "text": [
      "Procesando ticker (33/101): MRVL\n"
     ]
    },
    {
     "name": "stderr",
     "output_type": "stream",
     "text": [
      "C:\\Users\\javip\\AppData\\Local\\Temp\\ipykernel_30480\\106972179.py:12: FutureWarning: 'M' is deprecated and will be removed in a future version, please use 'ME' instead.\n",
      "  df = df.resample('M').agg({\n"
     ]
    },
    {
     "name": "stdout",
     "output_type": "stream",
     "text": [
      "Procesando ticker (34/101): GILD\n"
     ]
    },
    {
     "name": "stderr",
     "output_type": "stream",
     "text": [
      "C:\\Users\\javip\\AppData\\Local\\Temp\\ipykernel_30480\\106972179.py:12: FutureWarning: 'M' is deprecated and will be removed in a future version, please use 'ME' instead.\n",
      "  df = df.resample('M').agg({\n",
      "\n",
      "1 Failed download:\n",
      "['FISV']: YFInvalidPeriodError(\"%ticker%: Period '5y' is invalid, must be one of ['1d', '5d', '1mo', '3mo', '6mo', '1y', '2y', 'ytd', 'max']\")\n"
     ]
    },
    {
     "name": "stdout",
     "output_type": "stream",
     "text": [
      "Procesando ticker (35/101): FISV\n",
      "No hay datos para el ticker FISV\n",
      "Procesando ticker (36/101): PANW\n"
     ]
    },
    {
     "name": "stderr",
     "output_type": "stream",
     "text": [
      "C:\\Users\\javip\\AppData\\Local\\Temp\\ipykernel_30480\\106972179.py:12: FutureWarning: 'M' is deprecated and will be removed in a future version, please use 'ME' instead.\n",
      "  df = df.resample('M').agg({\n"
     ]
    },
    {
     "name": "stdout",
     "output_type": "stream",
     "text": [
      "Procesando ticker (37/101): ADP\n"
     ]
    },
    {
     "name": "stderr",
     "output_type": "stream",
     "text": [
      "C:\\Users\\javip\\AppData\\Local\\Temp\\ipykernel_30480\\106972179.py:12: FutureWarning: 'M' is deprecated and will be removed in a future version, please use 'ME' instead.\n",
      "  df = df.resample('M').agg({\n"
     ]
    },
    {
     "name": "stdout",
     "output_type": "stream",
     "text": [
      "Procesando ticker (38/101): MU\n"
     ]
    },
    {
     "name": "stderr",
     "output_type": "stream",
     "text": [
      "C:\\Users\\javip\\AppData\\Local\\Temp\\ipykernel_30480\\106972179.py:12: FutureWarning: 'M' is deprecated and will be removed in a future version, please use 'ME' instead.\n",
      "  df = df.resample('M').agg({\n"
     ]
    },
    {
     "name": "stdout",
     "output_type": "stream",
     "text": [
      "Procesando ticker (39/101): CSX\n"
     ]
    },
    {
     "name": "stderr",
     "output_type": "stream",
     "text": [
      "C:\\Users\\javip\\AppData\\Local\\Temp\\ipykernel_30480\\106972179.py:12: FutureWarning: 'M' is deprecated and will be removed in a future version, please use 'ME' instead.\n",
      "  df = df.resample('M').agg({\n"
     ]
    },
    {
     "name": "stdout",
     "output_type": "stream",
     "text": [
      "Procesando ticker (40/101): VRTX\n"
     ]
    },
    {
     "name": "stderr",
     "output_type": "stream",
     "text": [
      "C:\\Users\\javip\\AppData\\Local\\Temp\\ipykernel_30480\\106972179.py:12: FutureWarning: 'M' is deprecated and will be removed in a future version, please use 'ME' instead.\n",
      "  df = df.resample('M').agg({\n"
     ]
    },
    {
     "name": "stdout",
     "output_type": "stream",
     "text": [
      "Procesando ticker (41/101): REGN\n"
     ]
    },
    {
     "name": "stderr",
     "output_type": "stream",
     "text": [
      "C:\\Users\\javip\\AppData\\Local\\Temp\\ipykernel_30480\\106972179.py:12: FutureWarning: 'M' is deprecated and will be removed in a future version, please use 'ME' instead.\n",
      "  df = df.resample('M').agg({\n"
     ]
    },
    {
     "name": "stdout",
     "output_type": "stream",
     "text": [
      "Procesando ticker (42/101): KLAC\n"
     ]
    },
    {
     "name": "stderr",
     "output_type": "stream",
     "text": [
      "C:\\Users\\javip\\AppData\\Local\\Temp\\ipykernel_30480\\106972179.py:12: FutureWarning: 'M' is deprecated and will be removed in a future version, please use 'ME' instead.\n",
      "  df = df.resample('M').agg({\n"
     ]
    },
    {
     "name": "stdout",
     "output_type": "stream",
     "text": [
      "Procesando ticker (43/101): SNPS\n"
     ]
    },
    {
     "name": "stderr",
     "output_type": "stream",
     "text": [
      "C:\\Users\\javip\\AppData\\Local\\Temp\\ipykernel_30480\\106972179.py:12: FutureWarning: 'M' is deprecated and will be removed in a future version, please use 'ME' instead.\n",
      "  df = df.resample('M').agg({\n"
     ]
    },
    {
     "name": "stdout",
     "output_type": "stream",
     "text": [
      "Procesando ticker (44/101): MELI\n"
     ]
    },
    {
     "name": "stderr",
     "output_type": "stream",
     "text": [
      "C:\\Users\\javip\\AppData\\Local\\Temp\\ipykernel_30480\\106972179.py:12: FutureWarning: 'M' is deprecated and will be removed in a future version, please use 'ME' instead.\n",
      "  df = df.resample('M').agg({\n"
     ]
    },
    {
     "name": "stdout",
     "output_type": "stream",
     "text": [
      "Procesando ticker (45/101): NXPI\n"
     ]
    },
    {
     "name": "stderr",
     "output_type": "stream",
     "text": [
      "C:\\Users\\javip\\AppData\\Local\\Temp\\ipykernel_30480\\106972179.py:12: FutureWarning: 'M' is deprecated and will be removed in a future version, please use 'ME' instead.\n",
      "  df = df.resample('M').agg({\n"
     ]
    },
    {
     "name": "stdout",
     "output_type": "stream",
     "text": [
      "Procesando ticker (46/101): LULU\n"
     ]
    },
    {
     "name": "stderr",
     "output_type": "stream",
     "text": [
      "C:\\Users\\javip\\AppData\\Local\\Temp\\ipykernel_30480\\106972179.py:12: FutureWarning: 'M' is deprecated and will be removed in a future version, please use 'ME' instead.\n",
      "  df = df.resample('M').agg({\n"
     ]
    },
    {
     "name": "stdout",
     "output_type": "stream",
     "text": [
      "Procesando ticker (47/101): FTNT\n"
     ]
    },
    {
     "name": "stderr",
     "output_type": "stream",
     "text": [
      "C:\\Users\\javip\\AppData\\Local\\Temp\\ipykernel_30480\\106972179.py:12: FutureWarning: 'M' is deprecated and will be removed in a future version, please use 'ME' instead.\n",
      "  df = df.resample('M').agg({\n"
     ]
    },
    {
     "name": "stdout",
     "output_type": "stream",
     "text": [
      "Procesando ticker (48/101): ATVI\n"
     ]
    },
    {
     "name": "stderr",
     "output_type": "stream",
     "text": [
      "\n",
      "1 Failed download:\n",
      "['ATVI']: YFPricesMissingError('$%ticker%: possibly delisted; no price data found  (period=1y) (Yahoo error = \"No data found, symbol may be delisted\")')\n"
     ]
    },
    {
     "name": "stdout",
     "output_type": "stream",
     "text": [
      "No hay datos para el ticker ATVI\n",
      "Procesando ticker (49/101): IDXX\n"
     ]
    },
    {
     "name": "stderr",
     "output_type": "stream",
     "text": [
      "C:\\Users\\javip\\AppData\\Local\\Temp\\ipykernel_30480\\106972179.py:12: FutureWarning: 'M' is deprecated and will be removed in a future version, please use 'ME' instead.\n",
      "  df = df.resample('M').agg({\n"
     ]
    },
    {
     "name": "stdout",
     "output_type": "stream",
     "text": [
      "Procesando ticker (50/101): ROST\n"
     ]
    },
    {
     "name": "stderr",
     "output_type": "stream",
     "text": [
      "C:\\Users\\javip\\AppData\\Local\\Temp\\ipykernel_30480\\106972179.py:12: FutureWarning: 'M' is deprecated and will be removed in a future version, please use 'ME' instead.\n",
      "  df = df.resample('M').agg({\n"
     ]
    },
    {
     "name": "stdout",
     "output_type": "stream",
     "text": [
      "Procesando ticker (51/101): MNST\n"
     ]
    },
    {
     "name": "stderr",
     "output_type": "stream",
     "text": [
      "C:\\Users\\javip\\AppData\\Local\\Temp\\ipykernel_30480\\106972179.py:12: FutureWarning: 'M' is deprecated and will be removed in a future version, please use 'ME' instead.\n",
      "  df = df.resample('M').agg({\n"
     ]
    },
    {
     "name": "stdout",
     "output_type": "stream",
     "text": [
      "Procesando ticker (52/101): CTAS\n"
     ]
    },
    {
     "name": "stderr",
     "output_type": "stream",
     "text": [
      "C:\\Users\\javip\\AppData\\Local\\Temp\\ipykernel_30480\\106972179.py:12: FutureWarning: 'M' is deprecated and will be removed in a future version, please use 'ME' instead.\n",
      "  df = df.resample('M').agg({\n"
     ]
    },
    {
     "name": "stdout",
     "output_type": "stream",
     "text": [
      "Procesando ticker (53/101): ORLY\n"
     ]
    },
    {
     "name": "stderr",
     "output_type": "stream",
     "text": [
      "C:\\Users\\javip\\AppData\\Local\\Temp\\ipykernel_30480\\106972179.py:12: FutureWarning: 'M' is deprecated and will be removed in a future version, please use 'ME' instead.\n",
      "  df = df.resample('M').agg({\n"
     ]
    },
    {
     "name": "stdout",
     "output_type": "stream",
     "text": [
      "Procesando ticker (54/101): KDP\n"
     ]
    },
    {
     "name": "stderr",
     "output_type": "stream",
     "text": [
      "C:\\Users\\javip\\AppData\\Local\\Temp\\ipykernel_30480\\106972179.py:12: FutureWarning: 'M' is deprecated and will be removed in a future version, please use 'ME' instead.\n",
      "  df = df.resample('M').agg({\n"
     ]
    },
    {
     "name": "stdout",
     "output_type": "stream",
     "text": [
      "Procesando ticker (55/101): MAR\n"
     ]
    },
    {
     "name": "stderr",
     "output_type": "stream",
     "text": [
      "C:\\Users\\javip\\AppData\\Local\\Temp\\ipykernel_30480\\106972179.py:12: FutureWarning: 'M' is deprecated and will be removed in a future version, please use 'ME' instead.\n",
      "  df = df.resample('M').agg({\n"
     ]
    },
    {
     "name": "stdout",
     "output_type": "stream",
     "text": [
      "Procesando ticker (56/101): TEAM\n"
     ]
    },
    {
     "name": "stderr",
     "output_type": "stream",
     "text": [
      "C:\\Users\\javip\\AppData\\Local\\Temp\\ipykernel_30480\\106972179.py:12: FutureWarning: 'M' is deprecated and will be removed in a future version, please use 'ME' instead.\n",
      "  df = df.resample('M').agg({\n"
     ]
    },
    {
     "name": "stdout",
     "output_type": "stream",
     "text": [
      "Procesando ticker (57/101): CDNS\n"
     ]
    },
    {
     "name": "stderr",
     "output_type": "stream",
     "text": [
      "C:\\Users\\javip\\AppData\\Local\\Temp\\ipykernel_30480\\106972179.py:12: FutureWarning: 'M' is deprecated and will be removed in a future version, please use 'ME' instead.\n",
      "  df = df.resample('M').agg({\n"
     ]
    },
    {
     "name": "stdout",
     "output_type": "stream",
     "text": [
      "Procesando ticker (58/101): EXC\n"
     ]
    },
    {
     "name": "stderr",
     "output_type": "stream",
     "text": [
      "C:\\Users\\javip\\AppData\\Local\\Temp\\ipykernel_30480\\106972179.py:12: FutureWarning: 'M' is deprecated and will be removed in a future version, please use 'ME' instead.\n",
      "  df = df.resample('M').agg({\n"
     ]
    },
    {
     "name": "stdout",
     "output_type": "stream",
     "text": [
      "Procesando ticker (59/101): DXCM\n"
     ]
    },
    {
     "name": "stderr",
     "output_type": "stream",
     "text": [
      "C:\\Users\\javip\\AppData\\Local\\Temp\\ipykernel_30480\\106972179.py:12: FutureWarning: 'M' is deprecated and will be removed in a future version, please use 'ME' instead.\n",
      "  df = df.resample('M').agg({\n"
     ]
    },
    {
     "name": "stdout",
     "output_type": "stream",
     "text": [
      "Procesando ticker (60/101): ODFL\n"
     ]
    },
    {
     "name": "stderr",
     "output_type": "stream",
     "text": [
      "C:\\Users\\javip\\AppData\\Local\\Temp\\ipykernel_30480\\106972179.py:12: FutureWarning: 'M' is deprecated and will be removed in a future version, please use 'ME' instead.\n",
      "  df = df.resample('M').agg({\n"
     ]
    },
    {
     "name": "stdout",
     "output_type": "stream",
     "text": [
      "Procesando ticker (61/101): PCAR\n"
     ]
    },
    {
     "name": "stderr",
     "output_type": "stream",
     "text": [
      "C:\\Users\\javip\\AppData\\Local\\Temp\\ipykernel_30480\\106972179.py:12: FutureWarning: 'M' is deprecated and will be removed in a future version, please use 'ME' instead.\n",
      "  df = df.resample('M').agg({\n"
     ]
    },
    {
     "name": "stdout",
     "output_type": "stream",
     "text": [
      "Procesando ticker (62/101): PAYX\n"
     ]
    },
    {
     "name": "stderr",
     "output_type": "stream",
     "text": [
      "C:\\Users\\javip\\AppData\\Local\\Temp\\ipykernel_30480\\106972179.py:12: FutureWarning: 'M' is deprecated and will be removed in a future version, please use 'ME' instead.\n",
      "  df = df.resample('M').agg({\n"
     ]
    },
    {
     "name": "stdout",
     "output_type": "stream",
     "text": [
      "Procesando ticker (63/101): XEL\n"
     ]
    },
    {
     "name": "stderr",
     "output_type": "stream",
     "text": [
      "C:\\Users\\javip\\AppData\\Local\\Temp\\ipykernel_30480\\106972179.py:12: FutureWarning: 'M' is deprecated and will be removed in a future version, please use 'ME' instead.\n",
      "  df = df.resample('M').agg({\n"
     ]
    },
    {
     "name": "stdout",
     "output_type": "stream",
     "text": [
      "Procesando ticker (64/101): FAST\n"
     ]
    },
    {
     "name": "stderr",
     "output_type": "stream",
     "text": [
      "C:\\Users\\javip\\AppData\\Local\\Temp\\ipykernel_30480\\106972179.py:12: FutureWarning: 'M' is deprecated and will be removed in a future version, please use 'ME' instead.\n",
      "  df = df.resample('M').agg({\n"
     ]
    },
    {
     "name": "stdout",
     "output_type": "stream",
     "text": [
      "Procesando ticker (65/101): WBA\n"
     ]
    },
    {
     "name": "stderr",
     "output_type": "stream",
     "text": [
      "C:\\Users\\javip\\AppData\\Local\\Temp\\ipykernel_30480\\106972179.py:12: FutureWarning: 'M' is deprecated and will be removed in a future version, please use 'ME' instead.\n",
      "  df = df.resample('M').agg({\n"
     ]
    },
    {
     "name": "stdout",
     "output_type": "stream",
     "text": [
      "Procesando ticker (66/101): VRSK\n"
     ]
    },
    {
     "name": "stderr",
     "output_type": "stream",
     "text": [
      "C:\\Users\\javip\\AppData\\Local\\Temp\\ipykernel_30480\\106972179.py:12: FutureWarning: 'M' is deprecated and will be removed in a future version, please use 'ME' instead.\n",
      "  df = df.resample('M').agg({\n"
     ]
    },
    {
     "name": "stdout",
     "output_type": "stream",
     "text": [
      "Procesando ticker (67/101): BIIB\n"
     ]
    },
    {
     "name": "stderr",
     "output_type": "stream",
     "text": [
      "C:\\Users\\javip\\AppData\\Local\\Temp\\ipykernel_30480\\106972179.py:12: FutureWarning: 'M' is deprecated and will be removed in a future version, please use 'ME' instead.\n",
      "  df = df.resample('M').agg({\n"
     ]
    },
    {
     "name": "stdout",
     "output_type": "stream",
     "text": [
      "Procesando ticker (68/101): SGEN\n"
     ]
    },
    {
     "name": "stderr",
     "output_type": "stream",
     "text": [
      "\n",
      "1 Failed download:\n",
      "['SGEN']: YFPricesMissingError('$%ticker%: possibly delisted; no price data found  (period=1y) (Yahoo error = \"No data found, symbol may be delisted\")')\n"
     ]
    },
    {
     "name": "stdout",
     "output_type": "stream",
     "text": [
      "No hay datos para el ticker SGEN\n",
      "Procesando ticker (69/101): CHTR\n"
     ]
    },
    {
     "name": "stderr",
     "output_type": "stream",
     "text": [
      "C:\\Users\\javip\\AppData\\Local\\Temp\\ipykernel_30480\\106972179.py:12: FutureWarning: 'M' is deprecated and will be removed in a future version, please use 'ME' instead.\n",
      "  df = df.resample('M').agg({\n"
     ]
    },
    {
     "name": "stdout",
     "output_type": "stream",
     "text": [
      "Procesando ticker (70/101): AEP\n"
     ]
    },
    {
     "name": "stderr",
     "output_type": "stream",
     "text": [
      "C:\\Users\\javip\\AppData\\Local\\Temp\\ipykernel_30480\\106972179.py:12: FutureWarning: 'M' is deprecated and will be removed in a future version, please use 'ME' instead.\n",
      "  df = df.resample('M').agg({\n"
     ]
    },
    {
     "name": "stdout",
     "output_type": "stream",
     "text": [
      "Procesando ticker (71/101): SIRI\n"
     ]
    },
    {
     "name": "stderr",
     "output_type": "stream",
     "text": [
      "C:\\Users\\javip\\AppData\\Local\\Temp\\ipykernel_30480\\106972179.py:12: FutureWarning: 'M' is deprecated and will be removed in a future version, please use 'ME' instead.\n",
      "  df = df.resample('M').agg({\n"
     ]
    },
    {
     "name": "stdout",
     "output_type": "stream",
     "text": [
      "Procesando ticker (72/101): ILMN\n"
     ]
    },
    {
     "name": "stderr",
     "output_type": "stream",
     "text": [
      "C:\\Users\\javip\\AppData\\Local\\Temp\\ipykernel_30480\\106972179.py:12: FutureWarning: 'M' is deprecated and will be removed in a future version, please use 'ME' instead.\n",
      "  df = df.resample('M').agg({\n"
     ]
    },
    {
     "name": "stdout",
     "output_type": "stream",
     "text": [
      "Procesando ticker (73/101): DLTR\n"
     ]
    },
    {
     "name": "stderr",
     "output_type": "stream",
     "text": [
      "C:\\Users\\javip\\AppData\\Local\\Temp\\ipykernel_30480\\106972179.py:12: FutureWarning: 'M' is deprecated and will be removed in a future version, please use 'ME' instead.\n",
      "  df = df.resample('M').agg({\n"
     ]
    },
    {
     "name": "stdout",
     "output_type": "stream",
     "text": [
      "Procesando ticker (74/101): CPRT\n"
     ]
    },
    {
     "name": "stderr",
     "output_type": "stream",
     "text": [
      "C:\\Users\\javip\\AppData\\Local\\Temp\\ipykernel_30480\\106972179.py:12: FutureWarning: 'M' is deprecated and will be removed in a future version, please use 'ME' instead.\n",
      "  df = df.resample('M').agg({\n"
     ]
    },
    {
     "name": "stdout",
     "output_type": "stream",
     "text": [
      "Procesando ticker (75/101): EA\n"
     ]
    },
    {
     "name": "stderr",
     "output_type": "stream",
     "text": [
      "C:\\Users\\javip\\AppData\\Local\\Temp\\ipykernel_30480\\106972179.py:12: FutureWarning: 'M' is deprecated and will be removed in a future version, please use 'ME' instead.\n",
      "  df = df.resample('M').agg({\n"
     ]
    },
    {
     "name": "stdout",
     "output_type": "stream",
     "text": [
      "Procesando ticker (76/101): WDAY\n"
     ]
    },
    {
     "name": "stderr",
     "output_type": "stream",
     "text": [
      "C:\\Users\\javip\\AppData\\Local\\Temp\\ipykernel_30480\\106972179.py:12: FutureWarning: 'M' is deprecated and will be removed in a future version, please use 'ME' instead.\n",
      "  df = df.resample('M').agg({\n"
     ]
    },
    {
     "name": "stdout",
     "output_type": "stream",
     "text": [
      "Procesando ticker (77/101): PDD\n"
     ]
    },
    {
     "name": "stderr",
     "output_type": "stream",
     "text": [
      "C:\\Users\\javip\\AppData\\Local\\Temp\\ipykernel_30480\\106972179.py:12: FutureWarning: 'M' is deprecated and will be removed in a future version, please use 'ME' instead.\n",
      "  df = df.resample('M').agg({\n"
     ]
    },
    {
     "name": "stdout",
     "output_type": "stream",
     "text": [
      "Procesando ticker (78/101): DDOG\n"
     ]
    },
    {
     "name": "stderr",
     "output_type": "stream",
     "text": [
      "C:\\Users\\javip\\AppData\\Local\\Temp\\ipykernel_30480\\106972179.py:12: FutureWarning: 'M' is deprecated and will be removed in a future version, please use 'ME' instead.\n",
      "  df = df.resample('M').agg({\n"
     ]
    },
    {
     "name": "stdout",
     "output_type": "stream",
     "text": [
      "Procesando ticker (79/101): ZM\n"
     ]
    },
    {
     "name": "stderr",
     "output_type": "stream",
     "text": [
      "C:\\Users\\javip\\AppData\\Local\\Temp\\ipykernel_30480\\106972179.py:12: FutureWarning: 'M' is deprecated and will be removed in a future version, please use 'ME' instead.\n",
      "  df = df.resample('M').agg({\n"
     ]
    },
    {
     "name": "stdout",
     "output_type": "stream",
     "text": [
      "Procesando ticker (80/101): DOCU\n"
     ]
    },
    {
     "name": "stderr",
     "output_type": "stream",
     "text": [
      "C:\\Users\\javip\\AppData\\Local\\Temp\\ipykernel_30480\\106972179.py:12: FutureWarning: 'M' is deprecated and will be removed in a future version, please use 'ME' instead.\n",
      "  df = df.resample('M').agg({\n"
     ]
    },
    {
     "name": "stdout",
     "output_type": "stream",
     "text": [
      "Procesando ticker (81/101): CRWD\n"
     ]
    },
    {
     "name": "stderr",
     "output_type": "stream",
     "text": [
      "C:\\Users\\javip\\AppData\\Local\\Temp\\ipykernel_30480\\106972179.py:12: FutureWarning: 'M' is deprecated and will be removed in a future version, please use 'ME' instead.\n",
      "  df = df.resample('M').agg({\n"
     ]
    },
    {
     "name": "stdout",
     "output_type": "stream",
     "text": [
      "Procesando ticker (82/101): ZS\n"
     ]
    },
    {
     "name": "stderr",
     "output_type": "stream",
     "text": [
      "C:\\Users\\javip\\AppData\\Local\\Temp\\ipykernel_30480\\106972179.py:12: FutureWarning: 'M' is deprecated and will be removed in a future version, please use 'ME' instead.\n",
      "  df = df.resample('M').agg({\n"
     ]
    },
    {
     "name": "stdout",
     "output_type": "stream",
     "text": [
      "Procesando ticker (83/101): LCID\n"
     ]
    },
    {
     "name": "stderr",
     "output_type": "stream",
     "text": [
      "\n",
      "1 Failed download:\n",
      "['LCID']: YFInvalidPeriodError(\"%ticker%: Period '10y' is invalid, must be one of ['1d', '5d', '1mo', '3mo', '6mo', '1y', '2y', '5y', 'ytd', 'max']\")\n"
     ]
    },
    {
     "name": "stdout",
     "output_type": "stream",
     "text": [
      "No hay datos para el ticker LCID\n",
      "Procesando ticker (84/101): BKR\n"
     ]
    },
    {
     "name": "stderr",
     "output_type": "stream",
     "text": [
      "C:\\Users\\javip\\AppData\\Local\\Temp\\ipykernel_30480\\106972179.py:12: FutureWarning: 'M' is deprecated and will be removed in a future version, please use 'ME' instead.\n",
      "  df = df.resample('M').agg({\n"
     ]
    },
    {
     "name": "stdout",
     "output_type": "stream",
     "text": [
      "Procesando ticker (85/101): CEG\n"
     ]
    },
    {
     "name": "stderr",
     "output_type": "stream",
     "text": [
      "\n",
      "1 Failed download:\n",
      "['CEG']: YFInvalidPeriodError(\"%ticker%: Period '10y' is invalid, must be one of ['1d', '5d', '1mo', '3mo', '6mo', '1y', '2y', '5y', 'ytd', 'max']\")\n"
     ]
    },
    {
     "name": "stdout",
     "output_type": "stream",
     "text": [
      "No hay datos para el ticker CEG\n",
      "Procesando ticker (86/101): GFS\n"
     ]
    },
    {
     "name": "stderr",
     "output_type": "stream",
     "text": [
      "\n",
      "1 Failed download:\n",
      "['GFS']: YFInvalidPeriodError(\"%ticker%: Period '10y' is invalid, must be one of ['1d', '5d', '1mo', '3mo', '6mo', '1y', '2y', '5y', 'ytd', 'max']\")\n"
     ]
    },
    {
     "name": "stdout",
     "output_type": "stream",
     "text": [
      "No hay datos para el ticker GFS\n",
      "Procesando ticker (87/101): MRNA\n"
     ]
    },
    {
     "name": "stderr",
     "output_type": "stream",
     "text": [
      "C:\\Users\\javip\\AppData\\Local\\Temp\\ipykernel_30480\\106972179.py:12: FutureWarning: 'M' is deprecated and will be removed in a future version, please use 'ME' instead.\n",
      "  df = df.resample('M').agg({\n"
     ]
    },
    {
     "name": "stdout",
     "output_type": "stream",
     "text": [
      "Procesando ticker (88/101): APP\n"
     ]
    },
    {
     "name": "stderr",
     "output_type": "stream",
     "text": [
      "\n",
      "1 Failed download:\n",
      "['APP']: YFInvalidPeriodError(\"%ticker%: Period '10y' is invalid, must be one of ['1d', '5d', '1mo', '3mo', '6mo', '1y', '2y', '5y', 'ytd', 'max']\")\n"
     ]
    },
    {
     "name": "stdout",
     "output_type": "stream",
     "text": [
      "No hay datos para el ticker APP\n",
      "Procesando ticker (89/101): DASH\n"
     ]
    },
    {
     "name": "stderr",
     "output_type": "stream",
     "text": [
      "\n",
      "1 Failed download:\n",
      "['DASH']: YFInvalidPeriodError(\"%ticker%: Period '10y' is invalid, must be one of ['1d', '5d', '1mo', '3mo', '6mo', '1y', '2y', '5y', 'ytd', 'max']\")\n",
      "\n",
      "1 Failed download:\n",
      "['ARM']: YFInvalidPeriodError(\"%ticker%: Period '5y' is invalid, must be one of ['1d', '5d', '1mo', '3mo', '6mo', '1y', '2y', 'ytd', 'max']\")\n"
     ]
    },
    {
     "name": "stdout",
     "output_type": "stream",
     "text": [
      "No hay datos para el ticker DASH\n",
      "Procesando ticker (90/101): ARM\n",
      "No hay datos para el ticker ARM\n",
      "Procesando ticker (91/101): GEHC\n"
     ]
    },
    {
     "name": "stderr",
     "output_type": "stream",
     "text": [
      "\n",
      "1 Failed download:\n",
      "['GEHC']: YFInvalidPeriodError(\"%ticker%: Period '10y' is invalid, must be one of ['1d', '5d', '1mo', '3mo', '6mo', '1y', '2y', '5y', 'ytd', 'max']\")\n"
     ]
    },
    {
     "name": "stdout",
     "output_type": "stream",
     "text": [
      "No hay datos para el ticker GEHC\n",
      "Procesando ticker (92/101): SMCI\n"
     ]
    },
    {
     "name": "stderr",
     "output_type": "stream",
     "text": [
      "C:\\Users\\javip\\AppData\\Local\\Temp\\ipykernel_30480\\106972179.py:12: FutureWarning: 'M' is deprecated and will be removed in a future version, please use 'ME' instead.\n",
      "  df = df.resample('M').agg({\n"
     ]
    },
    {
     "name": "stdout",
     "output_type": "stream",
     "text": [
      "Procesando ticker (93/101): WBD\n"
     ]
    },
    {
     "name": "stderr",
     "output_type": "stream",
     "text": [
      "C:\\Users\\javip\\AppData\\Local\\Temp\\ipykernel_30480\\106972179.py:12: FutureWarning: 'M' is deprecated and will be removed in a future version, please use 'ME' instead.\n",
      "  df = df.resample('M').agg({\n"
     ]
    },
    {
     "name": "stdout",
     "output_type": "stream",
     "text": [
      "Procesando ticker (94/101): AZN\n"
     ]
    },
    {
     "name": "stderr",
     "output_type": "stream",
     "text": [
      "C:\\Users\\javip\\AppData\\Local\\Temp\\ipykernel_30480\\106972179.py:12: FutureWarning: 'M' is deprecated and will be removed in a future version, please use 'ME' instead.\n",
      "  df = df.resample('M').agg({\n"
     ]
    },
    {
     "name": "stdout",
     "output_type": "stream",
     "text": [
      "Procesando ticker (95/101): KHC\n"
     ]
    },
    {
     "name": "stderr",
     "output_type": "stream",
     "text": [
      "C:\\Users\\javip\\AppData\\Local\\Temp\\ipykernel_30480\\106972179.py:12: FutureWarning: 'M' is deprecated and will be removed in a future version, please use 'ME' instead.\n",
      "  df = df.resample('M').agg({\n"
     ]
    },
    {
     "name": "stdout",
     "output_type": "stream",
     "text": [
      "Procesando ticker (96/101): CSGP\n"
     ]
    },
    {
     "name": "stderr",
     "output_type": "stream",
     "text": [
      "C:\\Users\\javip\\AppData\\Local\\Temp\\ipykernel_30480\\106972179.py:12: FutureWarning: 'M' is deprecated and will be removed in a future version, please use 'ME' instead.\n",
      "  df = df.resample('M').agg({\n"
     ]
    },
    {
     "name": "stdout",
     "output_type": "stream",
     "text": [
      "Procesando ticker (97/101): MCHP\n"
     ]
    },
    {
     "name": "stderr",
     "output_type": "stream",
     "text": [
      "C:\\Users\\javip\\AppData\\Local\\Temp\\ipykernel_30480\\106972179.py:12: FutureWarning: 'M' is deprecated and will be removed in a future version, please use 'ME' instead.\n",
      "  df = df.resample('M').agg({\n"
     ]
    },
    {
     "name": "stdout",
     "output_type": "stream",
     "text": [
      "Procesando ticker (98/101): ON\n"
     ]
    },
    {
     "name": "stderr",
     "output_type": "stream",
     "text": [
      "C:\\Users\\javip\\AppData\\Local\\Temp\\ipykernel_30480\\106972179.py:12: FutureWarning: 'M' is deprecated and will be removed in a future version, please use 'ME' instead.\n",
      "  df = df.resample('M').agg({\n"
     ]
    },
    {
     "name": "stdout",
     "output_type": "stream",
     "text": [
      "Procesando ticker (99/101): TTWO\n"
     ]
    },
    {
     "name": "stderr",
     "output_type": "stream",
     "text": [
      "C:\\Users\\javip\\AppData\\Local\\Temp\\ipykernel_30480\\106972179.py:12: FutureWarning: 'M' is deprecated and will be removed in a future version, please use 'ME' instead.\n",
      "  df = df.resample('M').agg({\n"
     ]
    },
    {
     "name": "stdout",
     "output_type": "stream",
     "text": [
      "Procesando ticker (100/101): MDB\n"
     ]
    },
    {
     "name": "stderr",
     "output_type": "stream",
     "text": [
      "C:\\Users\\javip\\AppData\\Local\\Temp\\ipykernel_30480\\106972179.py:12: FutureWarning: 'M' is deprecated and will be removed in a future version, please use 'ME' instead.\n",
      "  df = df.resample('M').agg({\n"
     ]
    },
    {
     "name": "stdout",
     "output_type": "stream",
     "text": [
      "Procesando ticker (101/101): ANSS\n",
      "\n",
      "Resultados del análisis:\n"
     ]
    },
    {
     "name": "stderr",
     "output_type": "stream",
     "text": [
      "C:\\Users\\javip\\AppData\\Local\\Temp\\ipykernel_30480\\106972179.py:12: FutureWarning: 'M' is deprecated and will be removed in a future version, please use 'ME' instead.\n",
      "  df = df.resample('M').agg({\n"
     ]
    },
    {
     "data": {
      "text/html": [
       "<div>\n",
       "<style scoped>\n",
       "    .dataframe tbody tr th:only-of-type {\n",
       "        vertical-align: middle;\n",
       "    }\n",
       "\n",
       "    .dataframe tbody tr th {\n",
       "        vertical-align: top;\n",
       "    }\n",
       "\n",
       "    .dataframe thead th {\n",
       "        text-align: right;\n",
       "    }\n",
       "</style>\n",
       "<table border=\"1\" class=\"dataframe\">\n",
       "  <thead>\n",
       "    <tr style=\"text-align: right;\">\n",
       "      <th></th>\n",
       "      <th>Signal_Coppock_Buy</th>\n",
       "      <th>Signal_MACD_Buy</th>\n",
       "      <th>Signal_SMA_Buy</th>\n",
       "      <th>Signal_Alfayate_Buy</th>\n",
       "      <th>Signal_Coppock_Sell</th>\n",
       "      <th>Signal_MACD_Sell</th>\n",
       "      <th>Signal_SMA_Sell</th>\n",
       "      <th>Signal_Alfayate_Sell</th>\n",
       "      <th>Coppock</th>\n",
       "      <th>MACD_Signal</th>\n",
       "      <th>SMA50</th>\n",
       "      <th>SMA200</th>\n",
       "      <th>SMA200_Dist_Min</th>\n",
       "      <th>Distance_to_Max</th>\n",
       "      <th>RSC_Mansfield</th>\n",
       "      <th>SMA5_CPM52</th>\n",
       "      <th>SMA20_CPM52</th>\n",
       "      <th>Stop_Risk</th>\n",
       "    </tr>\n",
       "    <tr>\n",
       "      <th>Ticker</th>\n",
       "      <th></th>\n",
       "      <th></th>\n",
       "      <th></th>\n",
       "      <th></th>\n",
       "      <th></th>\n",
       "      <th></th>\n",
       "      <th></th>\n",
       "      <th></th>\n",
       "      <th></th>\n",
       "      <th></th>\n",
       "      <th></th>\n",
       "      <th></th>\n",
       "      <th></th>\n",
       "      <th></th>\n",
       "      <th></th>\n",
       "      <th></th>\n",
       "      <th></th>\n",
       "      <th></th>\n",
       "    </tr>\n",
       "  </thead>\n",
       "  <tbody>\n",
       "    <tr>\n",
       "      <th>AAPL</th>\n",
       "      <td>False</td>\n",
       "      <td>True</td>\n",
       "      <td>False</td>\n",
       "      <td>False</td>\n",
       "      <td>False</td>\n",
       "      <td>False</td>\n",
       "      <td>False</td>\n",
       "      <td>False</td>\n",
       "      <td>34.761041</td>\n",
       "      <td>6.995275</td>\n",
       "      <td>234.312599</td>\n",
       "      <td>210.494900</td>\n",
       "      <td>0.148104</td>\n",
       "      <td>0.017658</td>\n",
       "      <td>NaN</td>\n",
       "      <td>5.577615e+10</td>\n",
       "      <td>5.544789e+10</td>\n",
       "      <td>0.100607</td>\n",
       "    </tr>\n",
       "    <tr>\n",
       "      <th>MSFT</th>\n",
       "      <td>False</td>\n",
       "      <td>True</td>\n",
       "      <td>False</td>\n",
       "      <td>False</td>\n",
       "      <td>False</td>\n",
       "      <td>False</td>\n",
       "      <td>False</td>\n",
       "      <td>False</td>\n",
       "      <td>35.586482</td>\n",
       "      <td>1.926376</td>\n",
       "      <td>426.447401</td>\n",
       "      <td>424.495300</td>\n",
       "      <td>0.027101</td>\n",
       "      <td>0.066873</td>\n",
       "      <td>NaN</td>\n",
       "      <td>4.148147e+10</td>\n",
       "      <td>4.175155e+10</td>\n",
       "      <td>0.022249</td>\n",
       "    </tr>\n",
       "    <tr>\n",
       "      <th>NVDA</th>\n",
       "      <td>False</td>\n",
       "      <td>True</td>\n",
       "      <td>False</td>\n",
       "      <td>False</td>\n",
       "      <td>False</td>\n",
       "      <td>False</td>\n",
       "      <td>False</td>\n",
       "      <td>False</td>\n",
       "      <td>263.945333</td>\n",
       "      <td>7.987405</td>\n",
       "      <td>139.622799</td>\n",
       "      <td>116.170370</td>\n",
       "      <td>0.103278</td>\n",
       "      <td>0.145268</td>\n",
       "      <td>NaN</td>\n",
       "      <td>1.813912e+11</td>\n",
       "      <td>1.727756e+11</td>\n",
       "      <td>0.031966</td>\n",
       "    </tr>\n",
       "    <tr>\n",
       "      <th>AMZN</th>\n",
       "      <td>False</td>\n",
       "      <td>True</td>\n",
       "      <td>False</td>\n",
       "      <td>False</td>\n",
       "      <td>False</td>\n",
       "      <td>False</td>\n",
       "      <td>False</td>\n",
       "      <td>False</td>\n",
       "      <td>66.625889</td>\n",
       "      <td>6.276609</td>\n",
       "      <td>204.717000</td>\n",
       "      <td>188.032450</td>\n",
       "      <td>0.156503</td>\n",
       "      <td>0.041674</td>\n",
       "      <td>NaN</td>\n",
       "      <td>3.602621e+10</td>\n",
       "      <td>3.569260e+10</td>\n",
       "      <td>0.143804</td>\n",
       "    </tr>\n",
       "    <tr>\n",
       "      <th>GOOGL</th>\n",
       "      <td>False</td>\n",
       "      <td>True</td>\n",
       "      <td>False</td>\n",
       "      <td>False</td>\n",
       "      <td>False</td>\n",
       "      <td>False</td>\n",
       "      <td>False</td>\n",
       "      <td>False</td>\n",
       "      <td>52.997594</td>\n",
       "      <td>2.151331</td>\n",
       "      <td>173.840000</td>\n",
       "      <td>167.583350</td>\n",
       "      <td>0.110397</td>\n",
       "      <td>0.064095</td>\n",
       "      <td>NaN</td>\n",
       "      <td>2.103471e+10</td>\n",
       "      <td>2.051015e+10</td>\n",
       "      <td>0.092543</td>\n",
       "    </tr>\n",
       "    <tr>\n",
       "      <th>...</th>\n",
       "      <td>...</td>\n",
       "      <td>...</td>\n",
       "      <td>...</td>\n",
       "      <td>...</td>\n",
       "      <td>...</td>\n",
       "      <td>...</td>\n",
       "      <td>...</td>\n",
       "      <td>...</td>\n",
       "      <td>...</td>\n",
       "      <td>...</td>\n",
       "      <td>...</td>\n",
       "      <td>...</td>\n",
       "      <td>...</td>\n",
       "      <td>...</td>\n",
       "      <td>...</td>\n",
       "      <td>...</td>\n",
       "      <td>...</td>\n",
       "      <td>...</td>\n",
       "    </tr>\n",
       "    <tr>\n",
       "      <th>MCHP</th>\n",
       "      <td>False</td>\n",
       "      <td>False</td>\n",
       "      <td>False</td>\n",
       "      <td>False</td>\n",
       "      <td>True</td>\n",
       "      <td>True</td>\n",
       "      <td>True</td>\n",
       "      <td>False</td>\n",
       "      <td>-2.671312</td>\n",
       "      <td>-4.119151</td>\n",
       "      <td>69.080200</td>\n",
       "      <td>82.355250</td>\n",
       "      <td>0.473260</td>\n",
       "      <td>0.443273</td>\n",
       "      <td>NaN</td>\n",
       "      <td>2.408902e+09</td>\n",
       "      <td>2.345104e+09</td>\n",
       "      <td>0.405245</td>\n",
       "    </tr>\n",
       "    <tr>\n",
       "      <th>ON</th>\n",
       "      <td>False</td>\n",
       "      <td>False</td>\n",
       "      <td>False</td>\n",
       "      <td>False</td>\n",
       "      <td>True</td>\n",
       "      <td>True</td>\n",
       "      <td>True</td>\n",
       "      <td>False</td>\n",
       "      <td>-15.829684</td>\n",
       "      <td>-0.954582</td>\n",
       "      <td>69.072000</td>\n",
       "      <td>71.285400</td>\n",
       "      <td>0.100933</td>\n",
       "      <td>0.247387</td>\n",
       "      <td>NaN</td>\n",
       "      <td>2.307685e+09</td>\n",
       "      <td>2.387528e+09</td>\n",
       "      <td>0.093647</td>\n",
       "    </tr>\n",
       "    <tr>\n",
       "      <th>TTWO</th>\n",
       "      <td>False</td>\n",
       "      <td>True</td>\n",
       "      <td>False</td>\n",
       "      <td>False</td>\n",
       "      <td>False</td>\n",
       "      <td>False</td>\n",
       "      <td>False</td>\n",
       "      <td>False</td>\n",
       "      <td>19.849970</td>\n",
       "      <td>5.417648</td>\n",
       "      <td>174.934598</td>\n",
       "      <td>157.080900</td>\n",
       "      <td>0.132916</td>\n",
       "      <td>0.054869</td>\n",
       "      <td>NaN</td>\n",
       "      <td>1.229188e+09</td>\n",
       "      <td>1.243982e+09</td>\n",
       "      <td>0.108619</td>\n",
       "    </tr>\n",
       "    <tr>\n",
       "      <th>MDB</th>\n",
       "      <td>False</td>\n",
       "      <td>False</td>\n",
       "      <td>False</td>\n",
       "      <td>False</td>\n",
       "      <td>True</td>\n",
       "      <td>True</td>\n",
       "      <td>True</td>\n",
       "      <td>False</td>\n",
       "      <td>-28.318326</td>\n",
       "      <td>-2.483411</td>\n",
       "      <td>291.368200</td>\n",
       "      <td>293.776700</td>\n",
       "      <td>0.207467</td>\n",
       "      <td>0.519250</td>\n",
       "      <td>NaN</td>\n",
       "      <td>2.304316e+09</td>\n",
       "      <td>2.372128e+09</td>\n",
       "      <td>0.091729</td>\n",
       "    </tr>\n",
       "    <tr>\n",
       "      <th>ANSS</th>\n",
       "      <td>False</td>\n",
       "      <td>True</td>\n",
       "      <td>False</td>\n",
       "      <td>False</td>\n",
       "      <td>False</td>\n",
       "      <td>False</td>\n",
       "      <td>False</td>\n",
       "      <td>False</td>\n",
       "      <td>5.695120</td>\n",
       "      <td>3.028471</td>\n",
       "      <td>337.249400</td>\n",
       "      <td>327.580001</td>\n",
       "      <td>0.019133</td>\n",
       "      <td>0.081881</td>\n",
       "      <td>NaN</td>\n",
       "      <td>8.876262e+08</td>\n",
       "      <td>8.917886e+08</td>\n",
       "      <td>0.026623</td>\n",
       "    </tr>\n",
       "  </tbody>\n",
       "</table>\n",
       "<p>91 rows × 18 columns</p>\n",
       "</div>"
      ],
      "text/plain": [
       "        Signal_Coppock_Buy  Signal_MACD_Buy  Signal_SMA_Buy  \\\n",
       "Ticker                                                        \n",
       "AAPL                 False             True           False   \n",
       "MSFT                 False             True           False   \n",
       "NVDA                 False             True           False   \n",
       "AMZN                 False             True           False   \n",
       "GOOGL                False             True           False   \n",
       "...                    ...              ...             ...   \n",
       "MCHP                 False            False           False   \n",
       "ON                   False            False           False   \n",
       "TTWO                 False             True           False   \n",
       "MDB                  False            False           False   \n",
       "ANSS                 False             True           False   \n",
       "\n",
       "        Signal_Alfayate_Buy  Signal_Coppock_Sell  Signal_MACD_Sell  \\\n",
       "Ticker                                                               \n",
       "AAPL                  False                False             False   \n",
       "MSFT                  False                False             False   \n",
       "NVDA                  False                False             False   \n",
       "AMZN                  False                False             False   \n",
       "GOOGL                 False                False             False   \n",
       "...                     ...                  ...               ...   \n",
       "MCHP                  False                 True              True   \n",
       "ON                    False                 True              True   \n",
       "TTWO                  False                False             False   \n",
       "MDB                   False                 True              True   \n",
       "ANSS                  False                False             False   \n",
       "\n",
       "        Signal_SMA_Sell  Signal_Alfayate_Sell     Coppock  MACD_Signal  \\\n",
       "Ticker                                                                   \n",
       "AAPL              False                 False   34.761041     6.995275   \n",
       "MSFT              False                 False   35.586482     1.926376   \n",
       "NVDA              False                 False  263.945333     7.987405   \n",
       "AMZN              False                 False   66.625889     6.276609   \n",
       "GOOGL             False                 False   52.997594     2.151331   \n",
       "...                 ...                   ...         ...          ...   \n",
       "MCHP               True                 False   -2.671312    -4.119151   \n",
       "ON                 True                 False  -15.829684    -0.954582   \n",
       "TTWO              False                 False   19.849970     5.417648   \n",
       "MDB                True                 False  -28.318326    -2.483411   \n",
       "ANSS              False                 False    5.695120     3.028471   \n",
       "\n",
       "             SMA50      SMA200  SMA200_Dist_Min  Distance_to_Max  \\\n",
       "Ticker                                                             \n",
       "AAPL    234.312599  210.494900         0.148104         0.017658   \n",
       "MSFT    426.447401  424.495300         0.027101         0.066873   \n",
       "NVDA    139.622799  116.170370         0.103278         0.145268   \n",
       "AMZN    204.717000  188.032450         0.156503         0.041674   \n",
       "GOOGL   173.840000  167.583350         0.110397         0.064095   \n",
       "...            ...         ...              ...              ...   \n",
       "MCHP     69.080200   82.355250         0.473260         0.443273   \n",
       "ON       69.072000   71.285400         0.100933         0.247387   \n",
       "TTWO    174.934598  157.080900         0.132916         0.054869   \n",
       "MDB     291.368200  293.776700         0.207467         0.519250   \n",
       "ANSS    337.249400  327.580001         0.019133         0.081881   \n",
       "\n",
       "        RSC_Mansfield    SMA5_CPM52   SMA20_CPM52  Stop_Risk  \n",
       "Ticker                                                        \n",
       "AAPL              NaN  5.577615e+10  5.544789e+10   0.100607  \n",
       "MSFT              NaN  4.148147e+10  4.175155e+10   0.022249  \n",
       "NVDA              NaN  1.813912e+11  1.727756e+11   0.031966  \n",
       "AMZN              NaN  3.602621e+10  3.569260e+10   0.143804  \n",
       "GOOGL             NaN  2.103471e+10  2.051015e+10   0.092543  \n",
       "...               ...           ...           ...        ...  \n",
       "MCHP              NaN  2.408902e+09  2.345104e+09   0.405245  \n",
       "ON                NaN  2.307685e+09  2.387528e+09   0.093647  \n",
       "TTWO              NaN  1.229188e+09  1.243982e+09   0.108619  \n",
       "MDB               NaN  2.304316e+09  2.372128e+09   0.091729  \n",
       "ANSS              NaN  8.876262e+08  8.917886e+08   0.026623  \n",
       "\n",
       "[91 rows x 18 columns]"
      ]
     },
     "metadata": {},
     "output_type": "display_data"
    },
    {
     "name": "stdout",
     "output_type": "stream",
     "text": [
      "\n",
      "Resultados guardados en: analysis_results_test/resultados_20241220.csv\n"
     ]
    }
   ],
   "source": [
    "# Obtener la lista de tickers del NASDAQ\n",
    "tickers = get_nasdaq_tickers()\n",
    "\n",
    "# Debido a que el número de tickers es grande, puedes limitarlo para pruebas\n",
    "#tickers = tickers[:100]  # Analizar solo los primeros 100 tickers\n",
    "\n",
    "# top 100 tickers nasdaq\n",
    "tickers = [\n",
    "\"AAPL\", \"MSFT\", \"NVDA\", \"AMZN\", \"GOOGL\", \"GOOG\", \"META\", \"TSLA\", \"AVGO\", \"COST\",\n",
    "\"NFLX\", \"ASML\", \"TMUS\", \"CSCO\", \"PEP\", \"AMD\", \"LIN\", \"ADBE\", \"ISRG\", \"INTU\",\n",
    "\"QCOM\", \"TXN\", \"HON\", \"AMGN\", \"SBUX\", \"INTC\", \"MDLZ\", \"AMAT\", \"PYPL\", \"ADI\",\n",
    "\"LRCX\", \"BKNG\", \"MRVL\", \"GILD\", \"FISV\", \"PANW\", \"ADP\", \"MU\", \"CSX\", \"VRTX\",\n",
    "\"REGN\", \"KLAC\", \"SNPS\", \"MELI\", \"NXPI\", \"LULU\", \"FTNT\", \"ATVI\", \"IDXX\", \"ROST\",\n",
    "\"MNST\", \"CTAS\", \"ORLY\", \"KDP\", \"MAR\", \"TEAM\", \"CDNS\", \"EXC\", \"DXCM\", \"ODFL\",\n",
    "\"PCAR\", \"PAYX\", \"XEL\", \"FAST\", \"WBA\", \"VRSK\", \"BIIB\", \"SGEN\", \"CHTR\", \"AEP\",\n",
    "\"SIRI\", \"ILMN\", \"DLTR\", \"CPRT\", \"EA\", \"WDAY\", \"PDD\", \"DDOG\", \"ZM\", \"DOCU\",\n",
    "\"CRWD\", \"ZS\", \"LCID\", \"BKR\", \"CEG\", \"GFS\", \"MRNA\", \"APP\", \"DASH\", \"ARM\", \"GEHC\",\n",
    "\"SMCI\", \"WBD\", \"AZN\", \"KHC\", \"CSGP\", \"MCHP\", \"ON\", \"TTWO\", \"MDB\", \"ANSS\"\n",
    "]\n",
    "\n",
    "# Ejecutar el análisis\n",
    "results_df = analyze_tickers(tickers)\n"
   ]
  },
  {
   "cell_type": "code",
   "execution_count": 16,
   "metadata": {},
   "outputs": [
    {
     "data": {
      "text/plain": [
       "(1, 18)"
      ]
     },
     "execution_count": 16,
     "metadata": {},
     "output_type": "execute_result"
    }
   ],
   "source": [
    "# Filtrar las filas donde al menos 2 de los 3 indicadores son True\n",
    "filtered_results = results_df[(results_df[['Signal_Coppock_Buy', 'Signal_MACD_Buy', 'Signal_SMA_Buy']].sum(axis=1) >= 3)]\n",
    "\n",
    "# Mostrar el resultado filtrado\n",
    "filtered_results.shape"
   ]
  },
  {
   "cell_type": "code",
   "execution_count": 17,
   "metadata": {},
   "outputs": [
    {
     "data": {
      "text/html": [
       "<div>\n",
       "<style scoped>\n",
       "    .dataframe tbody tr th:only-of-type {\n",
       "        vertical-align: middle;\n",
       "    }\n",
       "\n",
       "    .dataframe tbody tr th {\n",
       "        vertical-align: top;\n",
       "    }\n",
       "\n",
       "    .dataframe thead th {\n",
       "        text-align: right;\n",
       "    }\n",
       "</style>\n",
       "<table border=\"1\" class=\"dataframe\">\n",
       "  <thead>\n",
       "    <tr style=\"text-align: right;\">\n",
       "      <th></th>\n",
       "      <th>Signal_Coppock_Buy</th>\n",
       "      <th>Signal_MACD_Buy</th>\n",
       "      <th>Signal_SMA_Buy</th>\n",
       "      <th>Signal_Alfayate_Buy</th>\n",
       "      <th>Signal_Coppock_Sell</th>\n",
       "      <th>Signal_MACD_Sell</th>\n",
       "      <th>Signal_SMA_Sell</th>\n",
       "      <th>Signal_Alfayate_Sell</th>\n",
       "      <th>Coppock</th>\n",
       "      <th>MACD_Signal</th>\n",
       "      <th>SMA50</th>\n",
       "      <th>SMA200</th>\n",
       "      <th>SMA200_Dist_Min</th>\n",
       "      <th>Distance_to_Max</th>\n",
       "      <th>RSC_Mansfield</th>\n",
       "      <th>SMA5_CPM52</th>\n",
       "      <th>SMA20_CPM52</th>\n",
       "      <th>Stop_Risk</th>\n",
       "    </tr>\n",
       "    <tr>\n",
       "      <th>Ticker</th>\n",
       "      <th></th>\n",
       "      <th></th>\n",
       "      <th></th>\n",
       "      <th></th>\n",
       "      <th></th>\n",
       "      <th></th>\n",
       "      <th></th>\n",
       "      <th></th>\n",
       "      <th></th>\n",
       "      <th></th>\n",
       "      <th></th>\n",
       "      <th></th>\n",
       "      <th></th>\n",
       "      <th></th>\n",
       "      <th></th>\n",
       "      <th></th>\n",
       "      <th></th>\n",
       "      <th></th>\n",
       "    </tr>\n",
       "  </thead>\n",
       "  <tbody>\n",
       "    <tr>\n",
       "      <th>SBUX</th>\n",
       "      <td>True</td>\n",
       "      <td>True</td>\n",
       "      <td>True</td>\n",
       "      <td>False</td>\n",
       "      <td>False</td>\n",
       "      <td>False</td>\n",
       "      <td>False</td>\n",
       "      <td>False</td>\n",
       "      <td>-9.169645</td>\n",
       "      <td>2.814756</td>\n",
       "      <td>97.7218</td>\n",
       "      <td>88.21675</td>\n",
       "      <td>0.005112</td>\n",
       "      <td>0.140921</td>\n",
       "      <td>NaN</td>\n",
       "      <td>4.538772e+09</td>\n",
       "      <td>4.488789e+09</td>\n",
       "      <td>0.01139</td>\n",
       "    </tr>\n",
       "  </tbody>\n",
       "</table>\n",
       "</div>"
      ],
      "text/plain": [
       "        Signal_Coppock_Buy  Signal_MACD_Buy  Signal_SMA_Buy  \\\n",
       "Ticker                                                        \n",
       "SBUX                  True             True            True   \n",
       "\n",
       "        Signal_Alfayate_Buy  Signal_Coppock_Sell  Signal_MACD_Sell  \\\n",
       "Ticker                                                               \n",
       "SBUX                  False                False             False   \n",
       "\n",
       "        Signal_SMA_Sell  Signal_Alfayate_Sell   Coppock  MACD_Signal    SMA50  \\\n",
       "Ticker                                                                          \n",
       "SBUX              False                 False -9.169645     2.814756  97.7218   \n",
       "\n",
       "          SMA200  SMA200_Dist_Min  Distance_to_Max  RSC_Mansfield  \\\n",
       "Ticker                                                              \n",
       "SBUX    88.21675         0.005112         0.140921            NaN   \n",
       "\n",
       "          SMA5_CPM52   SMA20_CPM52  Stop_Risk  \n",
       "Ticker                                         \n",
       "SBUX    4.538772e+09  4.488789e+09    0.01139  "
      ]
     },
     "execution_count": 17,
     "metadata": {},
     "output_type": "execute_result"
    }
   ],
   "source": [
    "filtered_results.head(13)"
   ]
  },
  {
   "cell_type": "code",
   "execution_count": 18,
   "metadata": {},
   "outputs": [
    {
     "data": {
      "text/plain": [
       "(3, 18)"
      ]
     },
     "execution_count": 18,
     "metadata": {},
     "output_type": "execute_result"
    }
   ],
   "source": [
    "\n",
    "filtered_results = results_df[results_df['Signal_SMA_Buy'] == True]\n",
    "\n",
    "# Mostrar el resultado filtrado\n",
    "filtered_results.shape"
   ]
  },
  {
   "cell_type": "code",
   "execution_count": 19,
   "metadata": {},
   "outputs": [
    {
     "data": {
      "text/html": [
       "<div>\n",
       "<style scoped>\n",
       "    .dataframe tbody tr th:only-of-type {\n",
       "        vertical-align: middle;\n",
       "    }\n",
       "\n",
       "    .dataframe tbody tr th {\n",
       "        vertical-align: top;\n",
       "    }\n",
       "\n",
       "    .dataframe thead th {\n",
       "        text-align: right;\n",
       "    }\n",
       "</style>\n",
       "<table border=\"1\" class=\"dataframe\">\n",
       "  <thead>\n",
       "    <tr style=\"text-align: right;\">\n",
       "      <th></th>\n",
       "      <th>Signal_Coppock_Buy</th>\n",
       "      <th>Signal_MACD_Buy</th>\n",
       "      <th>Signal_SMA_Buy</th>\n",
       "      <th>Signal_Alfayate_Buy</th>\n",
       "      <th>Signal_Coppock_Sell</th>\n",
       "      <th>Signal_MACD_Sell</th>\n",
       "      <th>Signal_SMA_Sell</th>\n",
       "      <th>Signal_Alfayate_Sell</th>\n",
       "      <th>Coppock</th>\n",
       "      <th>MACD_Signal</th>\n",
       "      <th>SMA50</th>\n",
       "      <th>SMA200</th>\n",
       "      <th>SMA200_Dist_Min</th>\n",
       "      <th>Distance_to_Max</th>\n",
       "      <th>RSC_Mansfield</th>\n",
       "      <th>SMA5_CPM52</th>\n",
       "      <th>SMA20_CPM52</th>\n",
       "      <th>Stop_Risk</th>\n",
       "    </tr>\n",
       "    <tr>\n",
       "      <th>Ticker</th>\n",
       "      <th></th>\n",
       "      <th></th>\n",
       "      <th></th>\n",
       "      <th></th>\n",
       "      <th></th>\n",
       "      <th></th>\n",
       "      <th></th>\n",
       "      <th></th>\n",
       "      <th></th>\n",
       "      <th></th>\n",
       "      <th></th>\n",
       "      <th></th>\n",
       "      <th></th>\n",
       "      <th></th>\n",
       "      <th></th>\n",
       "      <th></th>\n",
       "      <th></th>\n",
       "      <th></th>\n",
       "    </tr>\n",
       "  </thead>\n",
       "  <tbody>\n",
       "    <tr>\n",
       "      <th>INTU</th>\n",
       "      <td>False</td>\n",
       "      <td>True</td>\n",
       "      <td>True</td>\n",
       "      <td>False</td>\n",
       "      <td>False</td>\n",
       "      <td>False</td>\n",
       "      <td>False</td>\n",
       "      <td>False</td>\n",
       "      <td>32.815863</td>\n",
       "      <td>4.748620</td>\n",
       "      <td>643.1910</td>\n",
       "      <td>633.38620</td>\n",
       "      <td>0.005220</td>\n",
       "      <td>0.108887</td>\n",
       "      <td>NaN</td>\n",
       "      <td>4.132378e+09</td>\n",
       "      <td>3.988417e+09</td>\n",
       "      <td>0.007055</td>\n",
       "    </tr>\n",
       "    <tr>\n",
       "      <th>SBUX</th>\n",
       "      <td>True</td>\n",
       "      <td>True</td>\n",
       "      <td>True</td>\n",
       "      <td>False</td>\n",
       "      <td>False</td>\n",
       "      <td>False</td>\n",
       "      <td>False</td>\n",
       "      <td>False</td>\n",
       "      <td>-9.169645</td>\n",
       "      <td>2.814756</td>\n",
       "      <td>97.7218</td>\n",
       "      <td>88.21675</td>\n",
       "      <td>0.005112</td>\n",
       "      <td>0.140921</td>\n",
       "      <td>NaN</td>\n",
       "      <td>4.538772e+09</td>\n",
       "      <td>4.488789e+09</td>\n",
       "      <td>0.011390</td>\n",
       "    </tr>\n",
       "    <tr>\n",
       "      <th>PCAR</th>\n",
       "      <td>False</td>\n",
       "      <td>True</td>\n",
       "      <td>True</td>\n",
       "      <td>False</td>\n",
       "      <td>False</td>\n",
       "      <td>False</td>\n",
       "      <td>False</td>\n",
       "      <td>False</td>\n",
       "      <td>37.503912</td>\n",
       "      <td>1.736267</td>\n",
       "      <td>111.2202</td>\n",
       "      <td>106.93265</td>\n",
       "      <td>0.001617</td>\n",
       "      <td>0.143347</td>\n",
       "      <td>NaN</td>\n",
       "      <td>1.297257e+09</td>\n",
       "      <td>1.251709e+09</td>\n",
       "      <td>0.030803</td>\n",
       "    </tr>\n",
       "  </tbody>\n",
       "</table>\n",
       "</div>"
      ],
      "text/plain": [
       "        Signal_Coppock_Buy  Signal_MACD_Buy  Signal_SMA_Buy  \\\n",
       "Ticker                                                        \n",
       "INTU                 False             True            True   \n",
       "SBUX                  True             True            True   \n",
       "PCAR                 False             True            True   \n",
       "\n",
       "        Signal_Alfayate_Buy  Signal_Coppock_Sell  Signal_MACD_Sell  \\\n",
       "Ticker                                                               \n",
       "INTU                  False                False             False   \n",
       "SBUX                  False                False             False   \n",
       "PCAR                  False                False             False   \n",
       "\n",
       "        Signal_SMA_Sell  Signal_Alfayate_Sell    Coppock  MACD_Signal  \\\n",
       "Ticker                                                                  \n",
       "INTU              False                 False  32.815863     4.748620   \n",
       "SBUX              False                 False  -9.169645     2.814756   \n",
       "PCAR              False                 False  37.503912     1.736267   \n",
       "\n",
       "           SMA50     SMA200  SMA200_Dist_Min  Distance_to_Max  RSC_Mansfield  \\\n",
       "Ticker                                                                         \n",
       "INTU    643.1910  633.38620         0.005220         0.108887            NaN   \n",
       "SBUX     97.7218   88.21675         0.005112         0.140921            NaN   \n",
       "PCAR    111.2202  106.93265         0.001617         0.143347            NaN   \n",
       "\n",
       "          SMA5_CPM52   SMA20_CPM52  Stop_Risk  \n",
       "Ticker                                         \n",
       "INTU    4.132378e+09  3.988417e+09   0.007055  \n",
       "SBUX    4.538772e+09  4.488789e+09   0.011390  \n",
       "PCAR    1.297257e+09  1.251709e+09   0.030803  "
      ]
     },
     "execution_count": 19,
     "metadata": {},
     "output_type": "execute_result"
    }
   ],
   "source": [
    "filtered_results.head(13)"
   ]
  },
  {
   "cell_type": "markdown",
   "metadata": {},
   "source": []
  }
 ],
 "metadata": {
  "kernelspec": {
   "display_name": "venv",
   "language": "python",
   "name": "python3"
  },
  "language_info": {
   "codemirror_mode": {
    "name": "ipython",
    "version": 3
   },
   "file_extension": ".py",
   "mimetype": "text/x-python",
   "name": "python",
   "nbconvert_exporter": "python",
   "pygments_lexer": "ipython3",
   "version": "3.11.9"
  }
 },
 "nbformat": 4,
 "nbformat_minor": 2
}
